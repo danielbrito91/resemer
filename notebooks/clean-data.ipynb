{
 "cells": [
  {
   "cell_type": "code",
   "execution_count": 9,
   "metadata": {},
   "outputs": [],
   "source": [
    "import pandas as pd\n",
    "import numpy as np"
   ]
  },
  {
   "cell_type": "code",
   "execution_count": 7,
   "metadata": {},
   "outputs": [
    {
     "name": "stderr",
     "output_type": "stream",
     "text": [
      "c:\\Users\\Daniel\\AppData\\Local\\Programs\\Python\\Python310\\lib\\site-packages\\openpyxl\\styles\\stylesheet.py:226: UserWarning: Workbook contains no default style, apply openpyxl's default\n",
      "  warn(\"Workbook contains no default style, apply openpyxl's default\")\n"
     ]
    }
   ],
   "source": [
    "survey_raw = pd.read_excel(\"../data/raw/SurveyReport-7464592-02-21-2022-T150410.923.xlsx\",\n",
    "    sheet_name=\"Dados não tratados\")"
   ]
  },
  {
   "cell_type": "code",
   "execution_count": 10,
   "metadata": {},
   "outputs": [],
   "source": [
    "#remover concentimento e \"Variável Personalizada\"\n",
    "survey_f00 = survey_raw.drop(survey_raw.columns[\n",
    "    np.r_[6:14, #Referência externa, Variável Personalizada(1 a 5), email, lista\n",
    "    25:29], # termos de concentimento\n",
    "], \n",
    "    axis=1)"
   ]
  },
  {
   "cell_type": "code",
   "execution_count": 12,
   "metadata": {},
   "outputs": [],
   "source": [
    "def first_valid(x):\n",
    "#https://www.semicolonworld.com/question/58645/first-non-null-value-per-row-from-a-list-of-pandas-columns\n",
    "    if x.first_valid_index() is None:\n",
    "        return None\n",
    "    else:\n",
    "        return x[x.first_valid_index()]\n",
    "\n",
    "locais_resid = survey_f00.loc[:, survey_f00.columns.str.startswith(\"Qual o seu programa de residência?\")]\n",
    "#np.where(~np.isnan(locais_resid.values))\n",
    "\n",
    "    \n",
    "local_residencia = locais_resid.apply(first_valid, axis=1)\n",
    "\n",
    "survey_f01 = survey_f00.drop(survey_f00.columns\n",
    "                             [survey_f00.columns.str.startswith(\"Qual o seu programa de residência?\")],\n",
    "                             axis=1)\n",
    "survey_f01[\"Qual o seu programa de residência?\"] = local_residencia"
   ]
  },
  {
   "cell_type": "code",
   "execution_count": 13,
   "metadata": {},
   "outputs": [],
   "source": [
    "#filtra somente para residentes que completaram, retirando colunas totalmente vazias\n",
    "residentes_completed = survey_f01.loc[(survey_f01[\"Status de resposta\"]==\"Completed\") &\n",
    "               (survey_f01[\"Qual a sua posição na residência?\"] !=\n",
    "                \"Coordenador da Residência\")]\n",
    "\n",
    "residentes_completed = residentes_completed.dropna(axis=1, how=\"all\")\n",
    "residentes_completed = residentes_completed.reset_index(drop=True)"
   ]
  },
  {
   "cell_type": "code",
   "execution_count": 14,
   "metadata": {},
   "outputs": [],
   "source": [
    "#Remover questoes que residentes nao deveriam responder\n",
    "residentes_filter = residentes_completed.drop(residentes_completed.columns[\n",
    "    residentes_completed.columns.str.startswith(\"Seu programa de residência tem estágio curricular\")],axis=1)\n",
    "\n",
    "residentes_filter = residentes_filter.drop(residentes_filter.columns[\n",
    "    residentes_filter.columns.str.startswith(\"Seu programa de residência oferece alguma das capacitações abaixo relacionado\")],axis=1)\n",
    "\n",
    "#retira questoes sobre retorno da participacao\n",
    "residentes_filter = residentes_filter.iloc[:, np.r_[0:62, 64:65]]"
   ]
  },
  {
   "cell_type": "code",
   "execution_count": 15,
   "metadata": {},
   "outputs": [],
   "source": [
    "columns_id = [\n",
    "    0,  #'ID de resposta',\n",
    "    1,  #'Status de resposta',\n",
    "    3,  #'Timestamp (mm/dd/yyyy)',\n",
    "    62, #'Qual o seu programa de residência?',\n",
    "    7,  #'Região', #Qual o estado de seu Programa de Residência Médica?\n",
    "    15, #'Qual o seu gênero?',\n",
    "    16, #'Qual é a sua data de nascimento?',\n",
    "    17  #'Considerando as opções abaixo, como você classificaria sua cor ou raça?'\n",
    "]\n",
    "\n",
    "\n",
    "questoes_seguranca = [ #list(range(43, 62)\n",
    "    'Qual o seu nível de segurança em relação a INTUBAÇÃO OROTRAQUEAL? ',\n",
    "    'Qual o seu nível de segurança em relação ao ATENDIMENTO DE PCR?',\n",
    "    'Qual o seu nível de segurança em relação ao ATENDIMENTO DE PACIENTE POLITRAUMATIZADO?',\n",
    "    'Qual o seu nível de segurança em relação à passagem de ACESSO VENOSO CENTRAL?',\n",
    "    'Qual o seu nível de segurança em relação à passagem de CATETER DE SHILLEY?',\n",
    "    'Qual o seu nível de segurança em relação à passagem de ACESSO VENOSO PERIFÉRICO?',\n",
    "    'Qual o seu nível de segurança em relação à realização de TORACOCENTESE?',\n",
    "    'Qual o seu nível de segurança em relação à realização de PARACENTESE?',\n",
    "    'Qual o seu nível de segurança em relação à realização de PUNÇÃO LOMBAR?',\n",
    "    'Qual o seu nível de segurança em relação à colocação de DRENO DE TÓRAX?',\n",
    "    'Qual o seu nível de segurança em relação à realização de BLOQUEIO NERVOSO PERIFÉRICO?',\n",
    "    'Qual o seu nível de segurança em relação à realização de CARDIOVERSÃO?',\n",
    "    'Qual o seu nível de segurança em relação à realização de PERICARDIOCENTESE?',\n",
    "    'Qual o seu nível de segurança em relação à realização de PUNÇÃO SUPRAPÚBICA?',\n",
    "    'Qual o seu nível de segurança em relação à instalação de ACESSO INTRAÓSSEO?',\n",
    "    'Qual o seu nível de segurança em relação à realização de DRENAGEM DE ABSCESSO?',\n",
    "    'Qual o seu nível de segurança em relação à realização de CRICOTIREOIDOSTOMIA?',\n",
    "    'Qual o seu nível de segurança em relação à passagem de LINHA ARTERIAL/PA INVASIVA?',\n",
    "    'Qual o seu nível de segurança em relação à coleta de GASOMETRIA ARTERIAL?'\n",
    "]\n",
    "\n",
    "questoes_escolha = [ #list(range(20, 26))\n",
    "    'Quanto cada uma das variáveis abaixo influenciou em sua escolha para o seu atual Programa de Residência de Medicina de Emergência? - Cidade do Programa',\n",
    "    'Quanto cada uma das variáveis abaixo influenciou em sua escolha para o seu atual Programa de Residência de Medicina de Emergência? - Qualidade do Programa',\n",
    "    'Quanto cada uma das variáveis abaixo influenciou em sua escolha para o seu atual Programa de Residência de Medicina de Emergência? - Presença de preceptores emergencistas',\n",
    "    'Quanto cada uma das variáveis abaixo influenciou em sua escolha para o seu atual Programa de Residência de Medicina de Emergência? - Facilidade de acesso',\n",
    "    'Quanto cada uma das variáveis abaixo influenciou em sua escolha para o seu atual Programa de Residência de Medicina de Emergência? - Hospitais conveniados ',\n",
    "    'Quanto cada uma das variáveis abaixo influenciou em sua escolha para o seu atual Programa de Residência de Medicina de Emergência? - Fluxo de pacientes'\n",
    "]\n",
    "\n",
    "questoes_satisfacao = [ #list(range(35, 43))\n",
    "    'Em relação ao seu programa de residência, como você avalia: - Sua satisfação',\n",
    "    'Em relação ao seu programa de residência, como você avalia: - Disponibilidade dos preceptores',\n",
    "    'Em relação ao seu programa de residência, como você avalia: - Locais de Prática',\n",
    "    'Em relação ao seu programa de residência, como você avalia: - Atividades Teóricas',\n",
    "    'Em relação ao seu programa de residência, como você avalia: - Incentivo a pesquisa',\n",
    "    'Em relação ao seu programa de residência, como você avalia: - Nº de Atendimentos',\n",
    "    'Em relação ao seu programa de residência, como você avalia: - Disponibilidade de material',\n",
    "    'Em relação ao seu programa de residência, como você avalia: - Diversidade de doenças',\n",
    "]\n",
    "\n",
    "questoes_morte_encefalica = [ #list(range(29, 35))\n",
    "    'Seu programa de residência oferece alguma das capacitações abaixo para DETERMINAÇÃO DE MORTE ENCEFÁLICA? (marque todos que são oferecidos) - Aula teórica específica sobre o tema',\n",
    "    'Seu programa de residência oferece alguma das capacitações abaixo para DETERMINAÇÃO DE MORTE ENCEFÁLICA? (marque todos que são oferecidos) - Estágio curricular específico sobre o tema',\n",
    "    'Seu programa de residência oferece alguma das capacitações abaixo para DETERMINAÇÃO DE MORTE ENCEFÁLICA? (marque todos que são oferecidos) - Curso específico sobre o tema',\n",
    "    'Seu programa de residência oferece alguma das capacitações abaixo para DETERMINAÇÃO DE MORTE ENCEFÁLICA? (marque todos que são oferecidos) - Simulação específica sobre o tema ',\n",
    "    'Seu programa de residência oferece alguma das capacitações abaixo para DETERMINAÇÃO DE MORTE ENCEFÁLICA? (marque todos que são oferecidos) - Treinamento beira-leito sobre o tema',\n",
    "    'Seu programa de residência oferece alguma das capacitações abaixo para DETERMINAÇÃO DE MORTE ENCEFÁLICA? (marque todos que são oferecidos) - Não oferece nenhum treinamento específico '\n",
    "]\n"
   ]
  },
  {
   "cell_type": "code",
   "execution_count": 16,
   "metadata": {},
   "outputs": [],
   "source": [
    "seguranca_residentes = residentes_filter.iloc[:, [0, 1, 3, 62, 7, 15, 16, 17, 19] + list(range(43, 62))]\n",
    "\n",
    "escolha_residentes = residentes_filter.iloc[:, [0, 1, 3, 62, 7, 15, 16, 17, 19] + list(range(20, 26))]\n",
    "\n",
    "satisfacao_residentes = residentes_filter.iloc[:, [0, 1, 3, 62, 7, 15, 16, 17, 19] + list(range(35, 43))]\n",
    "\n",
    "me_residentes = residentes_filter.iloc[:, [0, 1, 3, 62, 7, 15, 16, 17, 19] + list(range(29, 35))]"
   ]
  },
  {
   "cell_type": "code",
   "execution_count": null,
   "metadata": {},
   "outputs": [],
   "source": []
  }
 ],
 "metadata": {
  "kernelspec": {
   "display_name": "Python 3.10.0 64-bit",
   "language": "python",
   "name": "python3"
  },
  "language_info": {
   "codemirror_mode": {
    "name": "ipython",
    "version": 3
   },
   "file_extension": ".py",
   "mimetype": "text/x-python",
   "name": "python",
   "nbconvert_exporter": "python",
   "pygments_lexer": "ipython3",
   "version": "3.10.0"
  },
  "orig_nbformat": 4,
  "vscode": {
   "interpreter": {
    "hash": "32f2fe102a4f10662d8c13f75131e1ba377b7194060421a642fdea27c55fc65a"
   }
  }
 },
 "nbformat": 4,
 "nbformat_minor": 2
}
